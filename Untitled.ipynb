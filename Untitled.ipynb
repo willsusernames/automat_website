{
 "cells": [
  {
   "cell_type": "code",
   "execution_count": 7,
   "id": "c5b3a7ee-9a7f-4cc4-b60f-8a5aa4fd0ce1",
   "metadata": {
    "tags": []
   },
   "outputs": [
    {
     "name": "stdout",
     "output_type": "stream",
     "text": [
      "Untitled.ipynb  app.py          \u001b[34minstance\u001b[m\u001b[m/       \u001b[34mtemplates\u001b[m\u001b[m/\n",
      "\u001b[34m__pycache__\u001b[m\u001b[m/    \u001b[34menv\u001b[m\u001b[m/            \u001b[34mstatic\u001b[m\u001b[m/\n"
     ]
    }
   ],
   "source": []
  }
 ],
 "metadata": {
  "kernelspec": {
   "display_name": "Python 3 (ipykernel)",
   "language": "python",
   "name": "python3"
  },
  "language_info": {
   "codemirror_mode": {
    "name": "ipython",
    "version": 3
   },
   "file_extension": ".py",
   "mimetype": "text/x-python",
   "name": "python",
   "nbconvert_exporter": "python",
   "pygments_lexer": "ipython3",
   "version": "3.11.5"
  }
 },
 "nbformat": 4,
 "nbformat_minor": 5
}
